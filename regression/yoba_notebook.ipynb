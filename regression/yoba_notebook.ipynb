{
 "cells": [
  {
   "cell_type": "code",
   "execution_count": 4,
   "metadata": {
    "scrolled": true
   },
   "outputs": [],
   "source": [
    "import numpy as np\n",
    "from sklearn.model_selection import train_test_split\n",
    "from sklearn.metrics import mean_absolute_error\n",
    "from sklearn.metrics import mean_squared_error\n",
    "\n",
    "import json\n",
    "import random\n",
    "\n",
    "X = []\n",
    "Y = []\n",
    "\n",
    "with open('output.jl', 'rb') as f:\n",
    "    for l in f:\n",
    "        item = json.loads(l)\n",
    "        currentArray = []\n",
    "        currentArray.append(item['floor'])\n",
    "        currentArray.append(item['number_of_floors'])\n",
    "        currentArray.append(item['number_of_rooms'])\n",
    "        currentArray.append(item['area']['total'])\n",
    "        currentArray.append(item['location']['latitude'])\n",
    "        currentArray.append(item['location']['longitude'])\n",
    "        currentArray.append(item['apt_state'])\n",
    "        \n",
    "        X.append(currentArray)\n",
    "        \n",
    "        Y.append(float(item['price']['amount']))\n",
    "        \n",
    "X_train, X_test, Y_train, Y_test = train_test_split(X, Y, test_size=0.2, random_state=42)\n"
   ]
  },
  {
   "cell_type": "code",
   "execution_count": null,
   "metadata": {},
   "outputs": [],
   "source": [
    "import matplotlib.pyplot as plt\n",
    "%matplotlib inline\n",
    "\n",
    "from catboost import CatBoostRegressor, cv, Pool\n",
    "\n",
    "model_001_cv = CatBoostRegressor(learning_rate=0.1, iterations=3000, depth=10, loss_function='RMSE',\n",
    "                                 logging_level='Silent')\n",
    "\n",
    "#model_001_cv.fit(X_train, Y_train)\n",
    "model_001_cv.fit(X_train, Y_train, eval_set=[X_test, Y_test])\n",
    "\n",
    "model_001_cv.save_model(\"fitted_model\")\n",
    "\n",
    "\n",
    "ytest_pred = model_001_cv.predict(X_test)\n",
    "\n",
    "print(\"Mean absolute error\", mean_absolute_error(Y_test, ytest_pred))\n",
    "print(\"Mean square error\", mean_squared_error(Y_test, ytest_pred))\n",
    "\n",
    "plt.scatter(Y_test, ytest_pred, c=\"g\", marker=\"o\")\n",
    "plt.xlabel('Measured')\n",
    "plt.ylabel('Predicted')\n",
    "\n",
    "axes = plt.gca()\n",
    "axes.set_xlim([0,200000])\n",
    "axes.set_ylim([0,200000])\n",
    "\n",
    "x = np.arange(0, 400000, 1000)\n",
    "plt.plot(x, x)\n",
    "plt.show()"
   ]
  },
  {
   "cell_type": "code",
   "execution_count": 132,
   "metadata": {
    "scrolled": true
   },
   "outputs": [
    {
     "name": "stdout",
     "output_type": "stream",
     "text": [
      "[66222.38553695]\n"
     ]
    }
   ],
   "source": [
    "\n",
    "# https://realt.by/sale/flats/object/1198196/\n",
    "print(model_001_cv.predict([[24, 25, 1, 45.2, 53.878398, 27.569153, 1]]))\n",
    "\n"
   ]
  },
  {
   "cell_type": "code",
   "execution_count": 153,
   "metadata": {},
   "outputs": [
    {
     "data": {
      "text/plain": [
       "[<matplotlib.lines.Line2D at 0x120ce20f0>,\n",
       " <matplotlib.lines.Line2D at 0x120ce2518>]"
      ]
     },
     "execution_count": 153,
     "metadata": {},
     "output_type": "execute_result"
    },
    {
     "data": {
      "image/png": "[encoded data removed]",
      "text/plain": [
       "<Figure size 432x288 with 1 Axes>"
      ]
     },
     "metadata": {},
     "output_type": "display_data"
    }
   ],
   "source": [
    "%matplotlib inline\n",
    "\n",
    "import numpy as np\n",
    "import matplotlib.pyplot as plt\n",
    "\n",
    "\n",
    "fig = plt.figure()\n",
    "\n",
    "plt.plot([a[4] for a in X], [a[5] for a in X], Y, 'yo')\n"
   ]
  },
  {
   "cell_type": "code",
   "execution_count": 151,
   "metadata": {},
   "outputs": [
    {
     "data": {
      "application/vnd.jupyter.widget-view+json": {
       "model_id": "e98a7275480b4abfa7a33ef630c1ac8f",
       "version_major": 2,
       "version_minor": 0
      },
      "text/html": [
       "<p>Failed to display Jupyter Widget of type <code>Figure</code>.</p>\n",
       "<p>\n",
       "  If you're reading this message in the Jupyter Notebook or JupyterLab Notebook, it may mean\n",
       "  that the widgets JavaScript is still loading. If this message persists, it\n",
       "  likely means that the widgets JavaScript library is either not installed or\n",
       "  not enabled. See the <a href=\"https://ipywidgets.readthedocs.io/en/stable/user_install.html\">Jupyter\n",
       "  Widgets Documentation</a> for setup instructions.\n",
       "</p>\n",
       "<p>\n",
       "  If you're reading this message in another frontend (for example, a static\n",
       "  rendering on GitHub or <a href=\"https://nbviewer.jupyter.org/\">NBViewer</a>),\n",
       "  it may mean that your frontend doesn't currently support widgets.\n",
       "</p>\n"
      ],
      "text/plain": [
       "Figure(layout=FigureLayout(height='420px'))"
      ]
     },
     "metadata": {},
     "output_type": "display_data"
    }
   ],
   "source": [
    "import os\n",
    "import math\n",
    "\n",
    "import numpy as np\n",
    "\n",
    "import gmaps\n",
    "import gmaps.datasets\n",
    "gmaps.configure(api_key=os.environ['GOOGLE_MAPS_KEY'])\n",
    "\n",
    "locations = []\n",
    "weights = []\n",
    "for lat in np.arange(53.80, 54.0, 0.001):\n",
    "    for long in np.arange(27.35, 27.75, 0.001):\n",
    "        locations.append((lat, long))\n",
    "        weights.append(model_001_cv.predict([[3, 9, 1, 45, lat, long, 3]])[0])\n",
    "\n",
    "mean = sum(weights) / len(weights)\n",
    "\n",
    "diffs = [(x - mean)**2 for x in weights]\n",
    "\n",
    "dev = math.sqrt(sum(diffs) / len(diffs))\n",
    "\n",
    "weights = [(x - mean) / dev for x in weights]\n",
    "\n",
    "min_weight = min(weights)\n",
    "weights = [(x - min_weight) / 100.0 for x in weights]\n",
    "\n",
    "#weights\n",
    "\n",
    "fig = gmaps.figure()\n",
    "fig.add_layer(gmaps.heatmap_layer(locations, weights=weights))\n",
    "fig"
   ]
  }
 ],
 "metadata": {
  "kernelspec": {
   "display_name": "Python 3",
   "language": "python",
   "name": "python3"
  },
  "language_info": {
   "codemirror_mode": {
    "name": "ipython",
    "version": 3
   },
   "file_extension": ".py",
   "mimetype": "text/x-python",
   "name": "python",
   "nbconvert_exporter": "python",
   "pygments_lexer": "ipython3",
   "version": "3.6.3"
  }
 },
 "nbformat": 4,
 "nbformat_minor": 2
}
