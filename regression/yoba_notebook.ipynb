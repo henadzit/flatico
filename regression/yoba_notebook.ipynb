{
 "cells": [
  {
   "cell_type": "code",
   "execution_count": 232,
   "metadata": {
    "scrolled": true
   },
   "outputs": [],
   "source": [
    "# from sklearn import linear_model\n",
    "lin_reg = linear_model.LinearRegression()\n",
    "# lin_reg1 = linear_model.LinearRegression()\n",
    "# lin_reg2 = linear_model.LinearRegression()\n",
    "# lin_reg3 = linear_model.LinearRegression()"
   ]
  },
  {
   "cell_type": "code",
   "execution_count": 7,
   "metadata": {
    "scrolled": true
   },
   "outputs": [],
   "source": [
    "# limit = -1\n",
    "# prices = [float(i) for i in train[1:limit, -1]]\n",
    "# squares = [float(i) for i in train[1:limit, -4]]\n",
    "# x_test = [[i] for i in squares]\n",
    "# y_test = prices\n",
    "\n",
    "from sklearn.model_selection import train_test_split\n",
    "import json_lines\n",
    "\n",
    "X = []\n",
    "Y = []\n",
    "\n",
    "with open('output.jl', 'rb') as f:\n",
    "    for item in json_lines.reader(f):\n",
    "        currentArray = []\n",
    "        currentArray.append(item['floor'])\n",
    "        currentArray.append(item['number_of_floors'])\n",
    "        currentArray.append(item['area']['total'])\n",
    "        currentArray.append(item['location']['latitude'])\n",
    "        currentArray.append(item['location']['longitude'])\n",
    "        currentArray.append(item['apt_state'])\n",
    "        \n",
    "        X.append(currentArray)\n",
    "        \n",
    "        Y.append(float(item['price']['amount']))\n",
    "\n",
    "\n",
    "# lin_reg0.fit(X, Y)\n",
    "# lin_reg1.fit([[a[0], a[0] * a[0]] for a in X], Y)\n",
    "# lin_reg2.fit([(a[0], a[0] * a[0], a[0] * a[0] * a[0]) for a in X], Y)\n",
    "# lin_reg3.fit([(a[0], a[0] * a[0], a[0] * a[0] * a[0], a[0] * a[0] * a[0] * a[0]) for a in X], Y)\n",
    "\n",
    "# X_train, X_test, y_train, y_test = train_test_split(X, Y, test_size=0.10, random_state=0)\n",
    "# print(len(X))\n",
    "# print(len(X_train))\n",
    "# logcv_reg.fit(X, Y)\n",
    "\n",
    "# print(set(map(lambda x  : (x[0] , list(X).count(x)) , X)))"
   ]
  },
  {
   "cell_type": "code",
   "execution_count": 22,
   "metadata": {},
   "outputs": [
    {
     "name": "stderr",
     "output_type": "stream",
     "text": [
      "/usr/local/lib/python3.6/site-packages/sklearn/model_selection/_split.py:2026: FutureWarning: From version 0.21, test_size will always complement train_size unless both are specified.\n",
      "  FutureWarning)\n"
     ]
    }
   ],
   "source": [
    "from catboost import CatBoostRegressor\n",
    "\n",
    "# dataset = numpy.array([[1,4,5,6],[4,5,6,7],[30,40,50,60],[20,15,85,60]])\n",
    "# train_labels = [1.2,3.4,9.5,24.5]\n",
    "\n",
    "X_train, X_validation, y_train, y_validation = train_test_split(X, Y, train_size=0.85, random_state=1234)\n",
    "\n",
    "# model_01 = CatBoostRegressor(learning_rate=0.1, iterations=1000, depth=6, loss_function='RMSE', logging_level='Silent')\n",
    "# fit_model01 = model_01.fit(X, Y)\n",
    "\n",
    "\n",
    "# model_001_350iter = CatBoostRegressor(learning_rate=0.01, iterations=350, depth=6, loss_function='RMSE', logging_level='Silent')\n",
    "# ^ - zaebis\n",
    "# model_001_350iter = CatBoostRegressor(learning_rate=0.01, iterations=350, depth=6, loss_function='RMSE', logging_level='Silent')\n",
    "# model_001_iter = CatBoostRegressor(learning_rate=0.01, iterations=1000, depth=6, loss_function='RMSE', logging_level='Silent')\n",
    "\n",
    "model_001_cv = CatBoostRegressor(learning_rate=0.01, iterations=700, depth=6, loss_function='RMSE', logging_level='Silent')\n",
    "\n",
    "model_001_cv.fit(X, Y)\n",
    "\n",
    "model_001_cv.save_model(\"fitted_model\")\n",
    "\n",
    "# model_001_cv = CatBoostRegressor().load_model(\"zaebis_model\")\n",
    "\n",
    "# fit_model001_cv = model_001_cv.fit(X_train, y_train, eval_set=(X_validation, y_validation), plot=True)\n",
    "\n",
    "\n",
    "# for i in range(16):\n",
    "#     print(i)\n",
    "#     model_cv = CatBoostRegressor(learning_rate=0.01, iterations=1000, depth=i, loss_function='RMSE', logging_level='Silent')\n",
    "#     model_cv.fit(X_train, y_train, eval_set=(X_validation, y_validation), plot=True)"
   ]
  },
  {
   "cell_type": "code",
   "execution_count": 20,
   "metadata": {
    "scrolled": true
   },
   "outputs": [
    {
     "name": "stdout",
     "output_type": "stream",
     "text": [
      "[55209.88578228]\n",
      "[70780.47207127]\n",
      "[68350.39917515]\n"
     ]
    }
   ],
   "source": [
    "# for i in range(30):\n",
    "#     print(50 + i)\n",
    "#     print(lin_reg.predict([[50 + i]]))\n",
    "#     print(fit_model_001_1000iter.predict([[50 + i]]))\n",
    "#     print(fit_model_001_350iter.predict([[50 + i]]))\n",
    "#     print(\"\\n\")\n",
    "\n",
    "print(model_001_cv.predict([[2, 9, 40, 53.928447, 27.429269, 1]])) # pawtet\n",
    "print(model_001_cv.predict([[2, 5, 45, 53.908681, 27.572759, 3]])) # plowad popedi\n",
    "print(model_001_cv.predict([[2, 5, 45, 53.925432, 27.556400, 2]])) # bulvar"
   ]
  },
  {
   "cell_type": "code",
   "execution_count": 280,
   "metadata": {},
   "outputs": [
    {
     "name": "stdout",
     "output_type": "stream",
     "text": [
      "[57589.53788624]\n",
      "[69100.77609573]\n",
      "[68058.27134609]\n"
     ]
    }
   ],
   "source": [
    "print(model_001_cv.predict([[2, 9, 40, 53.928447, 27.429269]])) # pawtet\n",
    "print(model_001_cv.predict([[2, 5, 45, 53.908681, 27.572759]])) # plowad popedi\n",
    "print(model_001_cv.predict([[2, 5, 45, 53.925432, 27.556400]])) # bulvar"
   ]
  },
  {
   "cell_type": "code",
   "execution_count": 23,
   "metadata": {},
   "outputs": [
    {
     "data": {
      "text/plain": [
       "[<matplotlib.lines.Line2D at 0x110baf2e8>]"
      ]
     },
     "execution_count": 23,
     "metadata": {},
     "output_type": "execute_result"
    }
   ],
   "source": [
    "import numpy as np\n",
    "import matplotlib.pyplot as plt\n",
    "\n",
    "# x = [a[2] for a in x_test]\n",
    "# y = y_test\n",
    "\n",
    "# fit = np.polyfit(x, y, 1)\n",
    "# fit_fn = np.poly1d(fit) \n",
    "# fit_fn is now a function which takes in x and returns an estimate for y\n",
    "\n",
    "plt.xlim(53.9, 54.0)\n",
    "# plt.ylim(0, 200000)\n",
    "\n",
    "\n",
    "# fit_model_001_350iter\n",
    "\n",
    "\n",
    "plt.plot([a[3] for a in X], Y, 'yo')#, '--k')\n",
    "# plt.plot(X, [lin_reg0.predict([a]) for a in X], 'yo')\n",
    "# plt.plot(X, [lin_reg1.predict([[a[0], a[0] * a[0]]]) for a in X], 'ro')\n",
    "# plt.plot(X, [lin_reg2.predict([[a[0], a[0] * a[0], a[0] * a[0] * a[0]]]) for a in X], 'go')\n",
    "# plt.plot([b[1] for b in X], [fit_model_001_1000iter.predict([a]) for a in X], 'bo')\n",
    "# plt.plot(X, [fit_model_001_1000iter.predict([a]) for a in X], 'go')\n",
    "# plt.show()\n",
    "\n",
    "# plt.clf()\n",
    "# plt.scatter(x, y, color='black', zorder=20)\n",
    "\n",
    "\n",
    "\n"
   ]
  },
  {
   "cell_type": "code",
   "execution_count": 33,
   "metadata": {},
   "outputs": [
    {
     "data": {
      "text/plain": [
       "{'DESCR': \"Boston House Prices dataset\\n===========================\\n\\nNotes\\n------\\nData Set Characteristics:  \\n\\n    :Number of Instances: 506 \\n\\n    :Number of Attributes: 13 numeric/categorical predictive\\n    \\n    :Median Value (attribute 14) is usually the target\\n\\n    :Attribute Information (in order):\\n        - CRIM     per capita crime rate by town\\n        - ZN       proportion of residential land zoned for lots over 25,000 sq.ft.\\n        - INDUS    proportion of non-retail business acres per town\\n        - CHAS     Charles River dummy variable (= 1 if tract bounds river; 0 otherwise)\\n        - NOX      nitric oxides concentration (parts per 10 million)\\n        - RM       average number of rooms per dwelling\\n        - AGE      proportion of owner-occupied units built prior to 1940\\n        - DIS      weighted distances to five Boston employment centres\\n        - RAD      index of accessibility to radial highways\\n        - TAX      full-value property-tax rate per $10,000\\n        - PTRATIO  pupil-teacher ratio by town\\n        - B        1000(Bk - 0.63)^2 where Bk is the proportion of blacks by town\\n        - LSTAT    % lower status of the population\\n        - MEDV     Median value of owner-occupied homes in $1000's\\n\\n    :Missing Attribute Values: None\\n\\n    :Creator: Harrison, D. and Rubinfeld, D.L.\\n\\nThis is a copy of UCI ML housing dataset.\\nhttp://archive.ics.uci.edu/ml/datasets/Housing\\n\\n\\nThis dataset was taken from the StatLib library which is maintained at Carnegie Mellon University.\\n\\nThe Boston house-price data of Harrison, D. and Rubinfeld, D.L. 'Hedonic\\nprices and the demand for clean air', J. Environ. Economics & Management,\\nvol.5, 81-102, 1978.   Used in Belsley, Kuh & Welsch, 'Regression diagnostics\\n...', Wiley, 1980.   N.B. Various transformations are used in the table on\\npages 244-261 of the latter.\\n\\nThe Boston house-price data has been used in many machine learning papers that address regression\\nproblems.   \\n     \\n**References**\\n\\n   - Belsley, Kuh & Welsch, 'Regression diagnostics: Identifying Influential Data and Sources of Collinearity', Wiley, 1980. 244-261.\\n   - Quinlan,R. (1993). Combining Instance-Based and Model-Based Learning. In Proceedings on the Tenth International Conference of Machine Learning, 236-243, University of Massachusetts, Amherst. Morgan Kaufmann.\\n   - many more! (see http://archive.ics.uci.edu/ml/datasets/Housing)\\n\",\n",
       " 'data': array([[6.3200e-03, 1.8000e+01, 2.3100e+00, ..., 1.5300e+01, 3.9690e+02,\n",
       "         4.9800e+00],\n",
       "        [2.7310e-02, 0.0000e+00, 7.0700e+00, ..., 1.7800e+01, 3.9690e+02,\n",
       "         9.1400e+00],\n",
       "        [2.7290e-02, 0.0000e+00, 7.0700e+00, ..., 1.7800e+01, 3.9283e+02,\n",
       "         4.0300e+00],\n",
       "        ...,\n",
       "        [6.0760e-02, 0.0000e+00, 1.1930e+01, ..., 2.1000e+01, 3.9690e+02,\n",
       "         5.6400e+00],\n",
       "        [1.0959e-01, 0.0000e+00, 1.1930e+01, ..., 2.1000e+01, 3.9345e+02,\n",
       "         6.4800e+00],\n",
       "        [4.7410e-02, 0.0000e+00, 1.1930e+01, ..., 2.1000e+01, 3.9690e+02,\n",
       "         7.8800e+00]]),\n",
       " 'feature_names': array(['CRIM', 'ZN', 'INDUS', 'CHAS', 'NOX', 'RM', 'AGE', 'DIS', 'RAD',\n",
       "        'TAX', 'PTRATIO', 'B', 'LSTAT'], dtype='<U7'),\n",
       " 'target': array([24. , 21.6, 34.7, 33.4, 36.2, 28.7, 22.9, 27.1, 16.5, 18.9, 15. ,\n",
       "        18.9, 21.7, 20.4, 18.2, 19.9, 23.1, 17.5, 20.2, 18.2, 13.6, 19.6,\n",
       "        15.2, 14.5, 15.6, 13.9, 16.6, 14.8, 18.4, 21. , 12.7, 14.5, 13.2,\n",
       "        13.1, 13.5, 18.9, 20. , 21. , 24.7, 30.8, 34.9, 26.6, 25.3, 24.7,\n",
       "        21.2, 19.3, 20. , 16.6, 14.4, 19.4, 19.7, 20.5, 25. , 23.4, 18.9,\n",
       "        35.4, 24.7, 31.6, 23.3, 19.6, 18.7, 16. , 22.2, 25. , 33. , 23.5,\n",
       "        19.4, 22. , 17.4, 20.9, 24.2, 21.7, 22.8, 23.4, 24.1, 21.4, 20. ,\n",
       "        20.8, 21.2, 20.3, 28. , 23.9, 24.8, 22.9, 23.9, 26.6, 22.5, 22.2,\n",
       "        23.6, 28.7, 22.6, 22. , 22.9, 25. , 20.6, 28.4, 21.4, 38.7, 43.8,\n",
       "        33.2, 27.5, 26.5, 18.6, 19.3, 20.1, 19.5, 19.5, 20.4, 19.8, 19.4,\n",
       "        21.7, 22.8, 18.8, 18.7, 18.5, 18.3, 21.2, 19.2, 20.4, 19.3, 22. ,\n",
       "        20.3, 20.5, 17.3, 18.8, 21.4, 15.7, 16.2, 18. , 14.3, 19.2, 19.6,\n",
       "        23. , 18.4, 15.6, 18.1, 17.4, 17.1, 13.3, 17.8, 14. , 14.4, 13.4,\n",
       "        15.6, 11.8, 13.8, 15.6, 14.6, 17.8, 15.4, 21.5, 19.6, 15.3, 19.4,\n",
       "        17. , 15.6, 13.1, 41.3, 24.3, 23.3, 27. , 50. , 50. , 50. , 22.7,\n",
       "        25. , 50. , 23.8, 23.8, 22.3, 17.4, 19.1, 23.1, 23.6, 22.6, 29.4,\n",
       "        23.2, 24.6, 29.9, 37.2, 39.8, 36.2, 37.9, 32.5, 26.4, 29.6, 50. ,\n",
       "        32. , 29.8, 34.9, 37. , 30.5, 36.4, 31.1, 29.1, 50. , 33.3, 30.3,\n",
       "        34.6, 34.9, 32.9, 24.1, 42.3, 48.5, 50. , 22.6, 24.4, 22.5, 24.4,\n",
       "        20. , 21.7, 19.3, 22.4, 28.1, 23.7, 25. , 23.3, 28.7, 21.5, 23. ,\n",
       "        26.7, 21.7, 27.5, 30.1, 44.8, 50. , 37.6, 31.6, 46.7, 31.5, 24.3,\n",
       "        31.7, 41.7, 48.3, 29. , 24. , 25.1, 31.5, 23.7, 23.3, 22. , 20.1,\n",
       "        22.2, 23.7, 17.6, 18.5, 24.3, 20.5, 24.5, 26.2, 24.4, 24.8, 29.6,\n",
       "        42.8, 21.9, 20.9, 44. , 50. , 36. , 30.1, 33.8, 43.1, 48.8, 31. ,\n",
       "        36.5, 22.8, 30.7, 50. , 43.5, 20.7, 21.1, 25.2, 24.4, 35.2, 32.4,\n",
       "        32. , 33.2, 33.1, 29.1, 35.1, 45.4, 35.4, 46. , 50. , 32.2, 22. ,\n",
       "        20.1, 23.2, 22.3, 24.8, 28.5, 37.3, 27.9, 23.9, 21.7, 28.6, 27.1,\n",
       "        20.3, 22.5, 29. , 24.8, 22. , 26.4, 33.1, 36.1, 28.4, 33.4, 28.2,\n",
       "        22.8, 20.3, 16.1, 22.1, 19.4, 21.6, 23.8, 16.2, 17.8, 19.8, 23.1,\n",
       "        21. , 23.8, 23.1, 20.4, 18.5, 25. , 24.6, 23. , 22.2, 19.3, 22.6,\n",
       "        19.8, 17.1, 19.4, 22.2, 20.7, 21.1, 19.5, 18.5, 20.6, 19. , 18.7,\n",
       "        32.7, 16.5, 23.9, 31.2, 17.5, 17.2, 23.1, 24.5, 26.6, 22.9, 24.1,\n",
       "        18.6, 30.1, 18.2, 20.6, 17.8, 21.7, 22.7, 22.6, 25. , 19.9, 20.8,\n",
       "        16.8, 21.9, 27.5, 21.9, 23.1, 50. , 50. , 50. , 50. , 50. , 13.8,\n",
       "        13.8, 15. , 13.9, 13.3, 13.1, 10.2, 10.4, 10.9, 11.3, 12.3,  8.8,\n",
       "         7.2, 10.5,  7.4, 10.2, 11.5, 15.1, 23.2,  9.7, 13.8, 12.7, 13.1,\n",
       "        12.5,  8.5,  5. ,  6.3,  5.6,  7.2, 12.1,  8.3,  8.5,  5. , 11.9,\n",
       "        27.9, 17.2, 27.5, 15. , 17.2, 17.9, 16.3,  7. ,  7.2,  7.5, 10.4,\n",
       "         8.8,  8.4, 16.7, 14.2, 20.8, 13.4, 11.7,  8.3, 10.2, 10.9, 11. ,\n",
       "         9.5, 14.5, 14.1, 16.1, 14.3, 11.7, 13.4,  9.6,  8.7,  8.4, 12.8,\n",
       "        10.5, 17.1, 18.4, 15.4, 10.8, 11.8, 14.9, 12.6, 14.1, 13. , 13.4,\n",
       "        15.2, 16.1, 17.8, 14.9, 14.1, 12.7, 13.5, 14.9, 20. , 16.4, 17.7,\n",
       "        19.5, 20.2, 21.4, 19.9, 19. , 19.1, 19.1, 20.1, 19.9, 19.6, 23.2,\n",
       "        29.8, 13.8, 13.3, 16.7, 12. , 14.6, 21.4, 23. , 23.7, 25. , 21.8,\n",
       "        20.6, 21.2, 19.1, 20.6, 15.2,  7. ,  8.1, 13.6, 20.1, 21.8, 24.5,\n",
       "        23.1, 19.7, 18.3, 21.2, 17.5, 16.8, 22.4, 20.6, 23.9, 22. , 11.9])}"
      ]
     },
     "execution_count": 33,
     "metadata": {},
     "output_type": "execute_result"
    }
   ],
   "source": [
    "import sklearn.datasets as datasets\n",
    "datasets.load_boston()"
   ]
  },
  {
   "cell_type": "code",
   "execution_count": 219,
   "metadata": {},
   "outputs": [
    {
     "data": {
      "text/plain": [
       "[<matplotlib.lines.Line2D at 0x1167e5278>]"
      ]
     },
     "execution_count": 219,
     "metadata": {},
     "output_type": "execute_result"
    },
    {
     "data": {
      "image/png": "[encoded data removed]",
      "text/plain": [
       "<Figure size 432x288 with 1 Axes>"
      ]
     },
     "metadata": {},
     "output_type": "display_data"
    }
   ],
   "source": [
    "plt.xlim(27.4, 27.7)\n",
    "plt.plot([a[4] for a in X], Y, 'bo')#, '--k')"
   ]
  },
  {
   "cell_type": "code",
   "execution_count": null,
   "metadata": {},
   "outputs": [],
   "source": [
    "import matplotlib.pyplot as plt\n",
    "\n",
    "n_bins = 20\n",
    "fig, axs = plt.subplots(100, 250, sharey=True, tight_layout=True)\n",
    "\n",
    "# We can set the number of bins with the `bins` kwarg\n",
    "\n",
    "countX = [a[2] for a in X]\n",
    "countX = countX[0:10]\n",
    "\n",
    "for idx, val in enumerate(set(map(lambda x  : (x , list(countX).count(x)) , countX))):\n",
    "    axs[int(val[0])].hist(val[1], bins=n_bins)\n"
   ]
  }
 ],
 "metadata": {
  "kernelspec": {
   "display_name": "Python 3",
   "language": "python",
   "name": "python3"
  },
  "language_info": {
   "codemirror_mode": {
    "name": "ipython",
    "version": 3
   },
   "file_extension": ".py",
   "mimetype": "text/x-python",
   "name": "python",
   "nbconvert_exporter": "python",
   "pygments_lexer": "ipython3",
   "version": "3.6.4"
  }
 },
 "nbformat": 4,
 "nbformat_minor": 2
}
